{
 "cells": [
  {
   "cell_type": "code",
   "execution_count": 2,
   "id": "03daa7a1-3b2c-4851-955c-8852fa13d4e6",
   "metadata": {},
   "outputs": [
    {
     "name": "stdout",
     "output_type": "stream",
     "text": [
      "Requirement already satisfied: Pillow in c:\\users\\jaish\\anaconda3\\lib\\site-packages (10.4.0)\n"
     ]
    }
   ],
   "source": [
    "#Installing Pillow\n",
    "!pip install Pillow"
   ]
  },
  {
   "cell_type": "code",
   "execution_count": 3,
   "id": "d7dc5e3f-5a91-40b4-bb95-2f732d438c0f",
   "metadata": {},
   "outputs": [],
   "source": [
    "#Import Pillow\n",
    "from PIL import Image"
   ]
  },
  {
   "cell_type": "code",
   "execution_count": 4,
   "id": "8c7318ca-5f29-46e9-ba4d-56e38383816d",
   "metadata": {},
   "outputs": [],
   "source": [
    "#Open and display the image\n",
    "img = Image.open(\"donut.png\")\n",
    "img.show()\n",
    "\n",
    "#Resize the image\n",
    "resized_img = img.resize((200, 200))\n",
    "#Display resized image\n",
    "resized_img.show()\n",
    "\n",
    "#Save the resized image\n",
    "resized_img.save(\"new_donut.png\")"
   ]
  },
  {
   "cell_type": "code",
   "execution_count": null,
   "id": "df231460-f8c8-46e1-bc3e-6a3096130b79",
   "metadata": {},
   "outputs": [],
   "source": []
  }
 ],
 "metadata": {
  "kernelspec": {
   "display_name": "Python 3 (ipykernel)",
   "language": "python",
   "name": "python3"
  },
  "language_info": {
   "codemirror_mode": {
    "name": "ipython",
    "version": 3
   },
   "file_extension": ".py",
   "mimetype": "text/x-python",
   "name": "python",
   "nbconvert_exporter": "python",
   "pygments_lexer": "ipython3",
   "version": "3.12.7"
  }
 },
 "nbformat": 4,
 "nbformat_minor": 5
}
