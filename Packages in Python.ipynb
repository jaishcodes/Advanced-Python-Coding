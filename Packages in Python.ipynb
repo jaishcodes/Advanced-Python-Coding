{
 "cells": [
  {
   "cell_type": "code",
   "execution_count": 4,
   "id": "ad3da12c-4578-4f67-934a-34b7daced5fe",
   "metadata": {},
   "outputs": [
    {
     "name": "stdout",
     "output_type": "stream",
     "text": [
      "Requirement already satisfied: Pillow in c:\\users\\jaish\\anaconda3\\lib\\site-packages (10.4.0)\n"
     ]
    }
   ],
   "source": [
    "#Install Package\n",
    "!pip install Pillow"
   ]
  },
  {
   "cell_type": "code",
   "execution_count": 5,
   "id": "9e81e8ca-65d6-4afa-859c-00d7ce813896",
   "metadata": {},
   "outputs": [],
   "source": [
    "#Import Package\n",
    "from PIL import Image"
   ]
  },
  {
   "cell_type": "code",
   "execution_count": 7,
   "id": "eef493d1-ed10-4173-9140-c9d695aa2be5",
   "metadata": {},
   "outputs": [],
   "source": [
    "#Create and Instance\n",
    "img = Image.open(\"Linkin Park.jpg\")\n",
    "img.show()"
   ]
  },
  {
   "cell_type": "code",
   "execution_count": 8,
   "id": "bf970362-fff2-4f13-b047-62ffbcdeb798",
   "metadata": {},
   "outputs": [],
   "source": [
    "#Passing an Argument\n",
    "resized_img = img.resize((200, 200))\n",
    "resized_img.show()"
   ]
  },
  {
   "cell_type": "code",
   "execution_count": 18,
   "id": "b3990bef-a80a-4945-8f8f-1d24519b0e06",
   "metadata": {},
   "outputs": [],
   "source": [
    "#Converting Image to Grayscale\n",
    "gray_img = img.convert(\"L\") \n",
    "gray_img.show()"
   ]
  },
  {
   "cell_type": "code",
   "execution_count": 12,
   "id": "4be0a04a-0ce7-4aba-8bb2-319311e59376",
   "metadata": {},
   "outputs": [],
   "source": [
    "#Save the modified image\n",
    "resized_img.save(\"resized_sample.jpg\")\n",
    "gray_img.save(\"gray_sample.jpg\")\n"
   ]
  }
 ],
 "metadata": {
  "kernelspec": {
   "display_name": "Python 3 (ipykernel)",
   "language": "python",
   "name": "python3"
  },
  "language_info": {
   "codemirror_mode": {
    "name": "ipython",
    "version": 3
   },
   "file_extension": ".py",
   "mimetype": "text/x-python",
   "name": "python",
   "nbconvert_exporter": "python",
   "pygments_lexer": "ipython3",
   "version": "3.12.7"
  }
 },
 "nbformat": 4,
 "nbformat_minor": 5
}
