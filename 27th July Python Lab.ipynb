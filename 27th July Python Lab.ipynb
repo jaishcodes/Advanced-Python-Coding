{
 "cells": [
  {
   "cell_type": "code",
   "execution_count": 7,
   "id": "95b05379-11fc-4130-bc6f-64c437dd104b",
   "metadata": {},
   "outputs": [
    {
     "name": "stdout",
     "output_type": "stream",
     "text": [
      "The factorial of the number 1000 is 402387260077093773543702433923003985719374864210714632543799910429938512398629020592044208486969404800479988610197196058631666872994808558901323829669944590997424504087073759918823627727188732519779505950995276120874975462497043601418278094646496291056393887437886487337119181045825783647849977012476632889835955735432513185323958463075557409114262417474349347553428646576611667797396668820291207379143853719588249808126867838374559731746136085379534524221586593201928090878297308431392844403281231558611036976801357304216168747609675871348312025478589320767169132448426236131412508780208000261683151027341827977704784635868170164365024153691398281264810213092761244896359928705114964975419909342221566832572080821333186116811553615836546984046708975602900950537616475847728421889679646244945160765353408198901385442487984959953319101723355556602139450399736280750137837615307127761926849034352625200015888535147331611702103968175921510907788019393178114194545257223865541461062892187960223838971476088506276862967146674697562911234082439208160153780889893964518263243671616762179168909779911903754031274622289988005195444414282012187361745992642956581746628302955570299024324153181617210465832036786906117260158783520751516284225540265170483304226143974286933061690897968482590125458327168226458066526769958652682272807075781391858178889652208164348344825993266043367660176999612831860788386150279465955131156552036093988180612138558600301435694527224206344631797460594682573103790084024432438465657245014402821885252470935190620929023136493273497565513958720559654228749774011413346962715422845862377387538230483865688976461927383814900140767310446640259899490222221765904339901886018566526485061799702356193897017860040811889729918311021171229845901641921068884387121855646124960798722908519296819372388642614839657382291123125024186649353143970137428531926649875337218940694281434118520158014123344828015051399694290153483077644569099073152433278288269864602789864321139083506217095002597389863554277196742822248757586765752344220207573630569498825087968928162753848863396909959826280956121450994871701244516461260379029309120889086942028510640182154399457156805941872748998094254742173582401063677404595741785160829230135358081840096996372524230560855903700624271243416909004153690105933983835777939410970027753472000000000000000000000000000000000000000000000000000000000000000000000000000000000000000000000000000000000000000000000000000000000000000000000000000000000000000000000000000000000000000000000000000000000000000000000000000000000000000000000000000000000\n"
     ]
    }
   ],
   "source": [
    "# Factorial of a Number\n",
    "import math\n",
    "\n",
    "result = math.factorial(1000)\n",
    "print(f\"The factorial of the number 1000 is {result}\")"
   ]
  },
  {
   "cell_type": "code",
   "execution_count": 4,
   "id": "a69b5a49-f522-48ae-97d2-12f1067f5e31",
   "metadata": {},
   "outputs": [
    {
     "name": "stdout",
     "output_type": "stream",
     "text": [
      "Ω\n",
      "😀\n"
     ]
    }
   ],
   "source": [
    "#Printing Omega and Grinning face\n",
    "import unicodedata\n",
    "omega = unicodedata.lookup('GREEK CAPITAL LETTER OMEGA')\n",
    "grinning = unicodedata.lookup('GRINNING FACE')\n",
    "\n",
    "print(omega)\n",
    "print(grinning)"
   ]
  },
  {
   "cell_type": "code",
   "execution_count": 8,
   "id": "3d2c3f85-e88e-4c48-8bef-35504317cd91",
   "metadata": {},
   "outputs": [
    {
     "name": "stderr",
     "output_type": "stream",
     "text": [
      "Building prefix dict from the default dictionary ...\n"
     ]
    },
    {
     "name": "stdout",
     "output_type": "stream",
     "text": [
      "Requirement already satisfied: jieba in c:\\users\\jaish\\anaconda3\\lib\\site-packages (0.42.1)\n"
     ]
    },
    {
     "name": "stderr",
     "output_type": "stream",
     "text": [
      "Dumping model to file cache C:\\Users\\jaish\\AppData\\Local\\Temp\\jieba.cache\n",
      "Loading model cost 3.531 seconds.\n",
      "Prefix dict has been built successfully.\n"
     ]
    },
    {
     "name": "stdout",
     "output_type": "stream",
     "text": [
      "['快车', '走得快']\n"
     ]
    }
   ],
   "source": [
    "#Printing Chinese characters\n",
    "!pip install jieba\n",
    "import jieba\n",
    "\n",
    "text = \"快车走得快\"\n",
    "tokens = jieba.lcut(text)\n",
    "\n",
    "print(tokens)"
   ]
  },
  {
   "cell_type": "code",
   "execution_count": 10,
   "id": "c236bd22-adea-43c2-aea3-c61d58dd226c",
   "metadata": {},
   "outputs": [
    {
     "name": "stdout",
     "output_type": "stream",
     "text": [
      "Gordon Murray Automotive\n"
     ]
    }
   ],
   "source": [
    "#Strings are Immutable\n",
    "s = \"gordon Murray Automotive\"\n",
    "s = \"G\" + s[1:] #This replaces the g with G\n",
    "print(s)"
   ]
  },
  {
   "cell_type": "code",
   "execution_count": 12,
   "id": "d3a186f5-5218-44cb-9660-666cb3a3ff6e",
   "metadata": {},
   "outputs": [
    {
     "name": "stdin",
     "output_type": "stream",
     "text": [
      "Enter a character:  X\n"
     ]
    },
    {
     "name": "stdout",
     "output_type": "stream",
     "text": [
      "Unicode value is: 88\n"
     ]
    }
   ],
   "source": [
    "#Character Encoding\n",
    "ch = input(\"Enter a character: \")\n",
    "print(\"Unicode value is:\", ord(ch))"
   ]
  },
  {
   "cell_type": "code",
   "execution_count": null,
   "id": "bdaa7db0-99a8-4017-b332-e076eb4bb6f0",
   "metadata": {},
   "outputs": [],
   "source": []
  }
 ],
 "metadata": {
  "kernelspec": {
   "display_name": "Python 3 (ipykernel)",
   "language": "python",
   "name": "python3"
  },
  "language_info": {
   "codemirror_mode": {
    "name": "ipython",
    "version": 3
   },
   "file_extension": ".py",
   "mimetype": "text/x-python",
   "name": "python",
   "nbconvert_exporter": "python",
   "pygments_lexer": "ipython3",
   "version": "3.12.7"
  }
 },
 "nbformat": 4,
 "nbformat_minor": 5
}
