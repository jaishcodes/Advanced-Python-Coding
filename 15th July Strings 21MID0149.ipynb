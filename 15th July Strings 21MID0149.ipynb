{
 "cells": [
  {
   "cell_type": "code",
   "execution_count": 1,
   "id": "287e11f3-eb85-403e-be5c-2e50aaa7acb1",
   "metadata": {},
   "outputs": [
    {
     "name": "stdout",
     "output_type": "stream",
     "text": [
      "FORZA FERRARI\n",
      "forza ferrari\n",
      "Forza Ferrari\n",
      "['Forza Ferrari']\n",
      "13\n"
     ]
    }
   ],
   "source": [
    "#Strings: Supported Functions\n",
    "#Basic string functions\n",
    "s = \"Forza Ferrari\"\n",
    "\n",
    "print(s.upper())     \n",
    "print(s.lower())      \n",
    "print(s.replace(\"Python\", \"World\"))  \n",
    "print(s.split(\",\"))    \n",
    "print(len(s))          "
   ]
  },
  {
   "cell_type": "code",
   "execution_count": 2,
   "id": "da1ee7d8-9efc-4426-b547-b764bc2a9597",
   "metadata": {},
   "outputs": [
    {
     "name": "stdout",
     "output_type": "stream",
     "text": [
      "Hello, Jaishwanth!\n"
     ]
    }
   ],
   "source": [
    "#Variable in Strings\n",
    "name = \"Jaishwanth\"\n",
    "greeting = f\"Hello, {name}!\"  \n",
    "print(greeting)"
   ]
  },
  {
   "cell_type": "code",
   "execution_count": 4,
   "id": "8c847905-dac6-44cf-9f3f-96170097f4ab",
   "metadata": {},
   "outputs": [
    {
     "name": "stdout",
     "output_type": "stream",
     "text": [
      "True\n",
      "False\n"
     ]
    }
   ],
   "source": [
    "#Strings in Strings\n",
    "text = \"The Ferrari F12 has a V12 engine\"\n",
    "print(\"F12\" in text)   \n",
    "print(\"missing\" in text)  "
   ]
  },
  {
   "cell_type": "code",
   "execution_count": 5,
   "id": "3f3894af-14fb-43df-a4e1-cc6c344cce9c",
   "metadata": {},
   "outputs": [
    {
     "name": "stdout",
     "output_type": "stream",
     "text": [
      "b'Starbucks has good coffee'\n",
      "Starbucks has good coffee\n"
     ]
    }
   ],
   "source": [
    "#Encoding\n",
    "text = \"Starbucks has good coffee\"\n",
    "#Encode to bytes\n",
    "encoded = text.encode('utf-8')  \n",
    "print(encoded)\n",
    "#Decode back to string\n",
    "decoded = encoded.decode('utf-8') \n",
    "print(decoded)"
   ]
  },
  {
   "cell_type": "code",
   "execution_count": 7,
   "id": "59d40def-964c-4bf8-a1b8-68c5a32fec28",
   "metadata": {},
   "outputs": [
    {
     "name": "stdout",
     "output_type": "stream",
     "text": [
      "Hello from the file!\n"
     ]
    }
   ],
   "source": [
    "#Reading from a file\n",
    "with open(\"hello.txt\", \"w\", encoding=\"utf-8\") as f:\n",
    "    f.write(\"Hello from the file!\")\n",
    "\n",
    "with open(\"hello.txt\", \"r\", encoding=\"utf-8\") as f:\n",
    "    content = f.read()\n",
    "    print(content)"
   ]
  },
  {
   "cell_type": "code",
   "execution_count": 8,
   "id": "e3235dda-a271-4dd3-9252-4eab81b08b3b",
   "metadata": {},
   "outputs": [
    {
     "name": "stdout",
     "output_type": "stream",
     "text": [
      "﻿The Project Gutenberg eBook of Pride and Prejudice\n",
      "    \n",
      "This ebook is for the use of anyone anywhere in the United States and\n",
      "most other parts of the world at no cost and with almost no restrictions\n",
      "whatsoever. You may copy it, give it away or re-use it under the terms\n",
      "of the Project Gutenberg License included with this ebook or online\n",
      "at www.gutenberg.org. If you are not located in the United States,\n",
      "you will have to check the laws of the country where you are located\n",
      "before using this\n"
     ]
    }
   ],
   "source": [
    "#Reading a Book from Project Gutenberg\n",
    "import requests\n",
    "#Pride and Prejudice\n",
    "url = \"https://www.gutenberg.org/cache/epub/1342/pg1342.txt\"\n",
    "response = requests.get(url)\n",
    "book_text = response.text\n",
    "\n",
    "#Show the first 500 characters\n",
    "print(book_text[:500])"
   ]
  }
 ],
 "metadata": {
  "kernelspec": {
   "display_name": "Python 3 (ipykernel)",
   "language": "python",
   "name": "python3"
  },
  "language_info": {
   "codemirror_mode": {
    "name": "ipython",
    "version": 3
   },
   "file_extension": ".py",
   "mimetype": "text/x-python",
   "name": "python",
   "nbconvert_exporter": "python",
   "pygments_lexer": "ipython3",
   "version": "3.12.7"
  }
 },
 "nbformat": 4,
 "nbformat_minor": 5
}
