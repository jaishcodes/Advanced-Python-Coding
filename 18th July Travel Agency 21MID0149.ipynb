{
 "cells": [
  {
   "cell_type": "code",
   "execution_count": 6,
   "id": "1dfdf662-b080-4104-b9ff-30ddfe1ff16e",
   "metadata": {},
   "outputs": [
    {
     "name": "stdin",
     "output_type": "stream",
     "text": [
      "How many favourite places?  3\n",
      "Enter place:  Goa\n",
      "Enter place:  Gokarna\n",
      "Enter place:  Varkala\n"
     ]
    },
    {
     "name": "stdout",
     "output_type": "stream",
     "text": [
      "Your favourite places are: ['Goa', 'Gokarna', 'Varkala']\n"
     ]
    }
   ],
   "source": [
    "#Ask user for favourite places\n",
    "places = []\n",
    "count = int(input(\"How many favourite places? \"))\n",
    "\n",
    "for i in range(count):\n",
    "    place = input(\"Enter place: \")\n",
    "    places.append(place)\n",
    "\n",
    "print(\"Your favourite places are:\", places)"
   ]
  },
  {
   "cell_type": "code",
   "execution_count": 7,
   "id": "32e13bd7-276a-4cc6-abb2-20c552b30e40",
   "metadata": {},
   "outputs": [
    {
     "name": "stdout",
     "output_type": "stream",
     "text": [
      "Your Favourite Places:\n",
      "Goa\n",
      "Gokarna\n",
      "Varkala\n"
     ]
    }
   ],
   "source": [
    "#Print your fav places\n",
    "print(\"Your Favourite Places:\")\n",
    "for place in places:\n",
    "    print(place)"
   ]
  },
  {
   "cell_type": "code",
   "execution_count": 8,
   "id": "786af5fb-d5d3-4dba-9d5b-ce12c55b14e2",
   "metadata": {},
   "outputs": [
    {
     "name": "stdin",
     "output_type": "stream",
     "text": [
      "Add another favourite place:  Pondicherry\n"
     ]
    },
    {
     "name": "stdout",
     "output_type": "stream",
     "text": [
      "Updated list: ['Goa', 'Gokarna', 'Varkala', 'Pondicherry']\n"
     ]
    }
   ],
   "source": [
    "#Insert fav place in desired location\n",
    "new_place = input(\"Add another favourite place: \")\n",
    "places.append(new_place)\n",
    "print(\"Updated list:\", places)"
   ]
  },
  {
   "cell_type": "code",
   "execution_count": 10,
   "id": "a14739f1-d6f5-428b-9b31-032b6ff9143d",
   "metadata": {},
   "outputs": [
    {
     "name": "stdin",
     "output_type": "stream",
     "text": [
      "Enter new place:  Vizag\n"
     ]
    }
   ],
   "source": [
    "#Adding new places\n",
    "place = input(\"Enter new place: \")\n",
    "places.append(place)"
   ]
  },
  {
   "cell_type": "code",
   "execution_count": 11,
   "id": "4c249d94-5514-4ae8-af67-ffac8c7cabcf",
   "metadata": {},
   "outputs": [
    {
     "name": "stdout",
     "output_type": "stream",
     "text": [
      "Your Favourite Places:\n",
      "1. Goa\n",
      "2. Gokarna\n",
      "3. Varkala\n",
      "4. Pondicherry\n",
      "5. Chennai\n",
      "6. Vizag\n"
     ]
    }
   ],
   "source": [
    "#Displaying fav places\n",
    "print(\"Your Favourite Places:\")\n",
    "for i, place in enumerate(places, start=1):\n",
    "    print(f\"{i}. {place}\")"
   ]
  },
  {
   "cell_type": "code",
   "execution_count": 12,
   "id": "fb2a5e01-e250-4633-a31c-ccb477d2d6a4",
   "metadata": {},
   "outputs": [
    {
     "name": "stdout",
     "output_type": "stream",
     "text": [
      "You might also like:\n",
      "- Kolkata\n",
      "- Mumbai\n",
      "- Hyderabad\n",
      "- Bangalore\n"
     ]
    }
   ],
   "source": [
    "#Collaborative Filtering\n",
    "# Sample user data\n",
    "users = {\n",
    "    \"Aarav\": [\"Delhi\", \"Mumbai\", \"Chennai\"],\n",
    "    \"Diya\": [\"Kolkata\", \"Delhi\", \"Hyderabad\"],\n",
    "    \"Rohan\": [\"Chennai\", \"Bangalore\", \"Hyderabad\"],\n",
    "    \"You\": [\"Delhi\", \"Chennai\"]\n",
    "}\n",
    "\n",
    "#Your places\n",
    "your_places = set(users[\"You\"])\n",
    "recommendations = []\n",
    "#Find places liked by others\n",
    "for name, places in users.items():\n",
    "    if name != \"You\":\n",
    "        for place in places:\n",
    "            if place not in your_places:\n",
    "                recommendations.append(place)\n",
    "#Remove duplicate\n",
    "recommendations = list(set(recommendations))\n",
    "\n",
    "#Show suggestions\n",
    "print(\"You might also like:\")\n",
    "for place in recommendations:\n",
    "    print(\"- \" + place)"
   ]
  }
 ],
 "metadata": {
  "kernelspec": {
   "display_name": "Python 3 (ipykernel)",
   "language": "python",
   "name": "python3"
  },
  "language_info": {
   "codemirror_mode": {
    "name": "ipython",
    "version": 3
   },
   "file_extension": ".py",
   "mimetype": "text/x-python",
   "name": "python",
   "nbconvert_exporter": "python",
   "pygments_lexer": "ipython3",
   "version": "3.12.7"
  }
 },
 "nbformat": 4,
 "nbformat_minor": 5
}
