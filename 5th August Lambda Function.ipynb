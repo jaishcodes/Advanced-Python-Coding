{
 "cells": [
  {
   "cell_type": "markdown",
   "id": "6be92469-5ef7-4e45-a1fd-960e32818eb7",
   "metadata": {},
   "source": [
    "Lambda Function"
   ]
  },
  {
   "cell_type": "code",
   "execution_count": 2,
   "id": "1f8bca44-6755-466d-b47a-e14957ef83db",
   "metadata": {},
   "outputs": [
    {
     "data": {
      "text/plain": [
       "200"
      ]
     },
     "execution_count": 2,
     "metadata": {},
     "output_type": "execute_result"
    }
   ],
   "source": [
    "#create function using def keyword\n",
    "def double(x):\n",
    "    return x*2\n",
    "\n",
    "# function call\n",
    "double(100)"
   ]
  },
  {
   "cell_type": "code",
   "execution_count": 4,
   "id": "4c32c018-6f60-45bf-b839-b7edf6cacd8b",
   "metadata": {},
   "outputs": [
    {
     "data": {
      "text/plain": [
       "1100"
      ]
     },
     "execution_count": 4,
     "metadata": {},
     "output_type": "execute_result"
    }
   ],
   "source": [
    "#create fuction using lambda\n",
    "x = lambda x:x*2\n",
    "\n",
    "#Function call\n",
    "x(550)"
   ]
  },
  {
   "cell_type": "code",
   "execution_count": 5,
   "id": "c35cb8ef-2f73-4fa8-9428-e2e430bcc540",
   "metadata": {},
   "outputs": [
    {
     "data": {
      "text/plain": [
       "30"
      ]
     },
     "execution_count": 5,
     "metadata": {},
     "output_type": "execute_result"
    }
   ],
   "source": [
    "#create fuction using lambda\n",
    "x = lambda x,y:x+y\n",
    "\n",
    "#function call\n",
    "x(18,12)"
   ]
  },
  {
   "cell_type": "code",
   "execution_count": 6,
   "id": "adecbf8f-3211-4dc8-9709-33a9e23d8fea",
   "metadata": {},
   "outputs": [
    {
     "data": {
      "text/plain": [
       "15"
      ]
     },
     "execution_count": 6,
     "metadata": {},
     "output_type": "execute_result"
    }
   ],
   "source": [
    "#create function using def keyword\n",
    "def max(x,y):\n",
    "    if x>y:\n",
    "        return x\n",
    "    else:\n",
    "        return y\n",
    "\n",
    "#function call\n",
    "max(10,15)"
   ]
  },
  {
   "cell_type": "code",
   "execution_count": 7,
   "id": "8b231a0d-4719-4d2a-94d6-4626a67bc921",
   "metadata": {},
   "outputs": [
    {
     "data": {
      "text/plain": [
       "18"
      ]
     },
     "execution_count": 7,
     "metadata": {},
     "output_type": "execute_result"
    }
   ],
   "source": [
    "# create fuction using lambda\n",
    "x = lambda x,y:x if x>y else y\n",
    "\n",
    "#function call\n",
    "x(7, 18)"
   ]
  },
  {
   "cell_type": "markdown",
   "id": "0babe395-5242-4090-a207-cb049956696e",
   "metadata": {},
   "source": [
    "Iterables"
   ]
  },
  {
   "cell_type": "code",
   "execution_count": 9,
   "id": "004e1c3c-84e0-4a4a-aee3-20322903c6de",
   "metadata": {},
   "outputs": [
    {
     "name": "stdout",
     "output_type": "stream",
     "text": [
      "1\n",
      "2\n",
      "3\n",
      "4\n",
      "5\n"
     ]
    }
   ],
   "source": [
    "#List is iterable\n",
    "num = [1,2,3,4,5]\n",
    "for i in num:\n",
    "    print(i)"
   ]
  },
  {
   "cell_type": "code",
   "execution_count": 10,
   "id": "1b82756f-b0ec-4a83-9627-e948d21d4704",
   "metadata": {},
   "outputs": [
    {
     "name": "stdout",
     "output_type": "stream",
     "text": [
      "1\n",
      "2\n",
      "3\n",
      "4\n",
      "5\n"
     ]
    }
   ],
   "source": [
    "#Tuple is iterable\n",
    "num1 = (1,2,3,4,5) \n",
    "for i in num1:\n",
    "    print(i)"
   ]
  },
  {
   "cell_type": "code",
   "execution_count": 15,
   "id": "6f40ec62-c4f1-48ca-bdca-25620fef264a",
   "metadata": {},
   "outputs": [
    {
     "name": "stdout",
     "output_type": "stream",
     "text": [
      "('name', 'Jaishwanth')\n",
      "('Reg No', '21MID0149')\n"
     ]
    }
   ],
   "source": [
    "#Dicitonary is iterable\n",
    "dict1 = {\"name\":\"Jaishwanth\",\"Reg No\":\"21MID0149\"} \n",
    "for i in dict1.items():\n",
    "    print(i)"
   ]
  },
  {
   "cell_type": "code",
   "execution_count": 16,
   "id": "586a51de-530c-4afd-844b-50d6a2b7fadf",
   "metadata": {},
   "outputs": [
    {
     "name": "stdout",
     "output_type": "stream",
     "text": [
      "J\n",
      "a\n",
      "i\n",
      "s\n",
      "h\n",
      "w\n",
      "a\n",
      "n\n",
      "t\n",
      "h\n"
     ]
    }
   ],
   "source": [
    "#String is iterable\n",
    "name = \"Jaishwanth\"   \n",
    "for i in name:\n",
    "    print(i)"
   ]
  },
  {
   "cell_type": "code",
   "execution_count": 17,
   "id": "7af0de01-16ab-4b04-ae35-f7345e964580",
   "metadata": {},
   "outputs": [
    {
     "name": "stdout",
     "output_type": "stream",
     "text": [
      "Iterating over a bytes object:\n",
      "104\n",
      "101\n",
      "108\n",
      "108\n",
      "111\n"
     ]
    }
   ],
   "source": [
    "#Byte is iterable\n",
    "my_bytes = b\"hello\"  \n",
    "print(\"Iterating over a bytes object:\")\n",
    "for i in my_bytes:\n",
    "    print(i)"
   ]
  },
  {
   "cell_type": "markdown",
   "id": "6ccc1744-26a7-4eb4-b66d-4e66bfef4d20",
   "metadata": {},
   "source": [
    "Non - Iterable"
   ]
  },
  {
   "cell_type": "code",
   "execution_count": 20,
   "id": "d6d2eadc-6180-47c1-b2bc-17be4f5b307d",
   "metadata": {},
   "outputs": [
    {
     "name": "stdout",
     "output_type": "stream",
     "text": [
      "1\n",
      "2\n",
      "3\n",
      "4\n",
      "5\n",
      "6\n",
      "7\n"
     ]
    }
   ],
   "source": [
    "#Using conversion interger becomes iterable\n",
    "n = 1234567\n",
    "str1 = str(n)  \n",
    "for i in str1:\n",
    "    print(i)"
   ]
  },
  {
   "cell_type": "code",
   "execution_count": 21,
   "id": "9ca2dd4d-5f0a-4f30-9d13-40d279f570e3",
   "metadata": {},
   "outputs": [
    {
     "name": "stdout",
     "output_type": "stream",
     "text": [
      "7\n",
      "6\n",
      "5\n",
      "4\n",
      "3\n",
      "2\n",
      "1\n"
     ]
    }
   ],
   "source": [
    "# Without using conversion integer becomes iterable\n",
    "n = 1234567\n",
    "add = 0\n",
    "while n != 0:\n",
    "    digit = n % 10       \n",
    "    print(digit)\n",
    "    n //= 10"
   ]
  },
  {
   "cell_type": "code",
   "execution_count": 22,
   "id": "ae7ce188-483c-44d3-b617-de2b72c7ae35",
   "metadata": {},
   "outputs": [
    {
     "name": "stdout",
     "output_type": "stream",
     "text": [
      "[1, 2, 3, 4, 5, 6, 7]\n"
     ]
    }
   ],
   "source": [
    "n = 1234567\n",
    "# List Comprehension\n",
    "digits = [int(d) for d in str(n)]   \n",
    "print(digits)"
   ]
  },
  {
   "cell_type": "markdown",
   "id": "7b081afc-d58e-48f2-8a7c-78eb275f9e5c",
   "metadata": {},
   "source": [
    "dir() function returns a list of all the attributes and methods of an object."
   ]
  },
  {
   "cell_type": "code",
   "execution_count": 23,
   "id": "a500d31b-ded8-40ad-9b5b-75fe74f9ded9",
   "metadata": {},
   "outputs": [
    {
     "name": "stdout",
     "output_type": "stream",
     "text": [
      "['__add__', '__class__', '__class_getitem__', '__contains__', '__delattr__', '__delitem__', '__dir__', '__doc__', '__eq__', '__format__', '__ge__', '__getattribute__', '__getitem__', '__getstate__', '__gt__', '__hash__', '__iadd__', '__imul__', '__init__', '__init_subclass__', '__iter__', '__le__', '__len__', '__lt__', '__mul__', '__ne__', '__new__', '__reduce__', '__reduce_ex__', '__repr__', '__reversed__', '__rmul__', '__setattr__', '__setitem__', '__sizeof__', '__str__', '__subclasshook__', 'append', 'clear', 'copy', 'count', 'extend', 'index', 'insert', 'pop', 'remove', 'reverse', 'sort']\n"
     ]
    }
   ],
   "source": [
    "#Original list\n",
    "num = [1,2,3,4,5] \n",
    "print(dir(num))"
   ]
  },
  {
   "cell_type": "markdown",
   "id": "623ea891-fb40-4727-837c-ec18d1402837",
   "metadata": {},
   "source": [
    "collections.abc — Abstract Base Classes for Containers (iter(), next())"
   ]
  },
  {
   "cell_type": "code",
   "execution_count": 24,
   "id": "a8efe3d4-7745-4942-9c54-6dc370498027",
   "metadata": {},
   "outputs": [
    {
     "name": "stdout",
     "output_type": "stream",
     "text": [
      "<list_iterator object at 0x0000013239437940>\n",
      "<class 'list'>\n",
      "<class 'list_iterator'>\n"
     ]
    }
   ],
   "source": [
    "#List\n",
    "names = [\"Jaish\",\"Keshav\",\"Ananya\"] \n",
    "#iterator from object list\n",
    "looper = names.__iter__()     \n",
    "print(looper)\n",
    "print(type(names))\n",
    "print(type(looper))"
   ]
  },
  {
   "cell_type": "code",
   "execution_count": 25,
   "id": "f87ac59b-dbf3-43cd-97cc-6b08733f5b07",
   "metadata": {},
   "outputs": [
    {
     "name": "stdout",
     "output_type": "stream",
     "text": [
      "<list_iterator object at 0x0000013239437AC0>\n",
      "<class 'list_iterator'>\n"
     ]
    }
   ],
   "source": [
    "looper = iter(names)   \n",
    "print(looper)\n",
    "print(type(looper))"
   ]
  },
  {
   "cell_type": "code",
   "execution_count": 26,
   "id": "7d410fb2-6d88-4a35-bb15-f0b730023b59",
   "metadata": {},
   "outputs": [
    {
     "name": "stdout",
     "output_type": "stream",
     "text": [
      "Jaish\n",
      "Keshav\n",
      "Ananya\n"
     ]
    },
    {
     "ename": "StopIteration",
     "evalue": "",
     "output_type": "error",
     "traceback": [
      "\u001b[1;31m---------------------------------------------------------------------------\u001b[0m",
      "\u001b[1;31mStopIteration\u001b[0m                             Traceback (most recent call last)",
      "Cell \u001b[1;32mIn[26], line 5\u001b[0m\n\u001b[0;32m      3\u001b[0m \u001b[38;5;28mprint\u001b[39m(\u001b[38;5;28mnext\u001b[39m(looper))\n\u001b[0;32m      4\u001b[0m \u001b[38;5;28mprint\u001b[39m(\u001b[38;5;28mnext\u001b[39m(looper))\n\u001b[1;32m----> 5\u001b[0m \u001b[38;5;28mprint\u001b[39m(\u001b[38;5;28mnext\u001b[39m(looper))\n",
      "\u001b[1;31mStopIteration\u001b[0m: "
     ]
    }
   ],
   "source": [
    "looper = iter(names)\n",
    "print(next(looper))\n",
    "print(next(looper))\n",
    "print(next(looper))\n",
    "print(next(looper))"
   ]
  },
  {
   "cell_type": "code",
   "execution_count": 27,
   "id": "f0dd899c-003e-4a00-8354-53756d691789",
   "metadata": {},
   "outputs": [
    {
     "name": "stdout",
     "output_type": "stream",
     "text": [
      "Jaish\n",
      "keshav\n",
      "Ananya\n"
     ]
    }
   ],
   "source": [
    "#Iterating the list using iter() and accesing next element by next()\n",
    "names = [\"Jaish\",\"keshav\",\"Ananya\"] # original list\n",
    "looper = iter(names)\n",
    "while True:\n",
    "    try:\n",
    "        name = next(looper) \n",
    "        print(name)\n",
    "    except StopIteration:\n",
    "        break"
   ]
  },
  {
   "cell_type": "markdown",
   "id": "34a05372-b40e-44ed-9340-d5018bf00122",
   "metadata": {},
   "source": [
    "Map Function"
   ]
  },
  {
   "cell_type": "code",
   "execution_count": 28,
   "id": "a6a95bd7-8685-4ec2-b985-e5cdbfbe54e7",
   "metadata": {},
   "outputs": [
    {
     "name": "stdout",
     "output_type": "stream",
     "text": [
      "<map object at 0x0000013239436020>\n"
     ]
    }
   ],
   "source": [
    "#Creates a map object\n",
    "def square(x):\n",
    "    return x*x\n",
    "numbers = [1,2,3,4,5]\n",
    "print(map(square,numbers))"
   ]
  },
  {
   "cell_type": "code",
   "execution_count": 29,
   "id": "f3d3155b-c838-4bea-bbe3-2b0a9bad6c04",
   "metadata": {},
   "outputs": [
    {
     "name": "stdout",
     "output_type": "stream",
     "text": [
      "[1, 4, 9, 16, 25]\n"
     ]
    }
   ],
   "source": [
    "#Create a list using map\n",
    "def square(x):\n",
    "    return x*x\n",
    "numbers = [1,2,3,4,5]\n",
    "print(list(map(square,numbers)))"
   ]
  },
  {
   "cell_type": "code",
   "execution_count": 30,
   "id": "26bdddaa-988e-463e-8b45-dcca6c6e5e80",
   "metadata": {},
   "outputs": [
    {
     "name": "stdout",
     "output_type": "stream",
     "text": [
      "1\n",
      "4\n",
      "9\n",
      "16\n",
      "25\n"
     ]
    }
   ],
   "source": [
    "def square(x):\n",
    "    return x*x\n",
    "numbers = [1,2,3,4,5]\n",
    "\n",
    "for num in map(square, numbers):\n",
    "    #Prints square numbers\n",
    "    print(num) "
   ]
  },
  {
   "cell_type": "code",
   "execution_count": 31,
   "id": "5453d8b3-0aba-488c-943b-bf938dec2d28",
   "metadata": {},
   "outputs": [
    {
     "name": "stdout",
     "output_type": "stream",
     "text": [
      "[1, 4, 9, 16, 25]\n"
     ]
    }
   ],
   "source": [
    "numbers = [1,2,3,4,5]\n",
    "print(list(map(lambda x:x*x,numbers)))"
   ]
  },
  {
   "cell_type": "code",
   "execution_count": 32,
   "id": "6e758203-5bf9-4cc1-8049-45c82d9a04c6",
   "metadata": {},
   "outputs": [
    {
     "name": "stdout",
     "output_type": "stream",
     "text": [
      "[4, 5]\n"
     ]
    }
   ],
   "source": [
    "#Filters the elements that satisfy the condition\n",
    "numbers = [1,2,3,4,5]\n",
    "print(list(filter(lambda x:x>3,numbers)))"
   ]
  },
  {
   "cell_type": "markdown",
   "id": "afa97303-7e59-490a-b806-7ee9bb5adb7b",
   "metadata": {},
   "source": [
    "Reduce function"
   ]
  },
  {
   "cell_type": "code",
   "execution_count": 35,
   "id": "2ad4f97a-02b0-4fa4-9a24-3438cd96d8d0",
   "metadata": {},
   "outputs": [
    {
     "name": "stdout",
     "output_type": "stream",
     "text": [
      "15\n"
     ]
    }
   ],
   "source": [
    "#The reduce() function applies a function of two arguments cumulatively to the items of a sequence, from left to right, to reduce the sequence to a single value.\n",
    "from functools import reduce\n",
    "numbers = [1,2,3,4,5]\n",
    "print(reduce(lambda x,y:x+y,numbers))"
   ]
  },
  {
   "cell_type": "code",
   "execution_count": 36,
   "id": "c3063224-92ad-4789-811d-ddb5f9a74318",
   "metadata": {},
   "outputs": [
    {
     "name": "stdout",
     "output_type": "stream",
     "text": [
      "The best way to predict the future is to create it.\n"
     ]
    }
   ],
   "source": [
    "from functools import reduce\n",
    "\n",
    "#A list of tokens (words) that form an inspirational quote\n",
    "tokens = [\"The\", \"best\", \"way\", \"to\", \"predict\", \"the\", \"future\", \"is\", \"to\", \"create\", \"it.\"]\n",
    "\n",
    "#Use reduce() with a lambda function to join the tokens\n",
    "#The lambda function combines two strings with a space in between\n",
    "quote = reduce(lambda combined_string, word: combined_string + \" \" + word, tokens)\n",
    "print(quote)"
   ]
  },
  {
   "cell_type": "code",
   "execution_count": null,
   "id": "cbbe8aba-c62b-4a25-af3f-af313489dc4e",
   "metadata": {},
   "outputs": [],
   "source": []
  }
 ],
 "metadata": {
  "kernelspec": {
   "display_name": "Python 3 (ipykernel)",
   "language": "python",
   "name": "python3"
  },
  "language_info": {
   "codemirror_mode": {
    "name": "ipython",
    "version": 3
   },
   "file_extension": ".py",
   "mimetype": "text/x-python",
   "name": "python",
   "nbconvert_exporter": "python",
   "pygments_lexer": "ipython3",
   "version": "3.12.7"
  }
 },
 "nbformat": 4,
 "nbformat_minor": 5
}
